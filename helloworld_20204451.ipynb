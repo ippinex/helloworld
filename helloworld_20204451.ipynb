{
  "nbformat": 4,
  "nbformat_minor": 0,
  "metadata": {
    "colab": {
      "name": "helloworld_20204451.ipynb",
      "provenance": [],
      "authorship_tag": "ABX9TyP487sRBQgCO3LjaBXp+tRA",
      "include_colab_link": true
    },
    "kernelspec": {
      "name": "python3",
      "display_name": "Python 3"
    }
  },
  "cells": [
    {
      "cell_type": "markdown",
      "metadata": {
        "id": "view-in-github",
        "colab_type": "text"
      },
      "source": [
        "<a href=\"https://colab.research.google.com/github/ippinex/helloworld/blob/main/helloworld_20204451.ipynb\" target=\"_parent\"><img src=\"https://colab.research.google.com/assets/colab-badge.svg\" alt=\"Open In Colab\"/></a>"
      ]
    },
    {
      "cell_type": "code",
      "metadata": {
        "id": "7l_zD6TLn3LN",
        "outputId": "ee91a4d0-df48-4746-9bf2-81a43b7f1be4",
        "colab": {
          "base_uri": "https://localhost:8080/",
          "height": 34
        }
      },
      "source": [
        "print('helloworld', 20204451)"
      ],
      "execution_count": 1,
      "outputs": [
        {
          "output_type": "stream",
          "text": [
            "helloworld 20204451\n"
          ],
          "name": "stdout"
        }
      ]
    }
  ]
}